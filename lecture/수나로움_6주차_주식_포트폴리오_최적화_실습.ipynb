{
  "nbformat": 4,
  "nbformat_minor": 0,
  "metadata": {
    "colab": {
      "provenance": []
    },
    "kernelspec": {
      "name": "python3",
      "display_name": "Python 3"
    },
    "language_info": {
      "name": "python"
    }
  },
  "cells": [
    {
      "cell_type": "markdown",
      "source": [
        "# 주식 포트폴리오 최적화\n"
      ],
      "metadata": {
        "id": "0-iayXFPQzVG"
      }
    },
    {
      "cell_type": "markdown",
      "source": [
        "## 실습의 내용\n",
        "\n",
        "주식 시장에서의 투자 결정을 프로그래밍을 통해 최적화하는 방법을 다뤄보며 금융 데이터를 이용한 프로그래밍에 익숙해지는 것을 목적으로 함. 참여자들은 주식 종목의 수익률, 리스크, 상관관계 등의 데이터를 활용하여 주식 포트폴리오를 구성하고, 투자자의 특정 목표나 제약 조건을 고려하여 최적의 포트폴리오를 찾는 방법을 배울 수 있음."
      ],
      "metadata": {
        "id": "vHuwuWNIRuZx"
      }
    },
    {
      "cell_type": "markdown",
      "source": [
        "## Data Exploration"
      ],
      "metadata": {
        "id": "G_M1vt3bSAqT"
      }
    },
    {
      "cell_type": "code",
      "source": [
        "# 데이터 다운로드 받기 1 (직접)\n",
        "# https://github.com/sunaroum/studynote/blob/main/dataset/Mock_Stock_Data.csv에 가서 다운로드 받기\n",
        "\n",
        "# 데이터 다운로드 받기 2 (자동으로)\n",
        "!curl -L -O https://raw.githubusercontent.com/sunaroum/studynote/main/dataset/Mock_Stock_Data.csv"
      ],
      "metadata": {
        "colab": {
          "base_uri": "https://localhost:8080/"
        },
        "id": "M2VLek2ySLtz",
        "outputId": "c2c3b09a-47a0-4bd8-da31-e5ff89af3021"
      },
      "execution_count": 1,
      "outputs": [
        {
          "output_type": "stream",
          "name": "stdout",
          "text": [
            "  % Total    % Received % Xferd  Average Speed   Time    Time     Time  Current\n",
            "                                 Dload  Upload   Total   Spent    Left  Speed\n",
            "100 15.8M  100 15.8M    0     0  12.3M      0  0:00:01  0:00:01 --:--:-- 12.3M\n"
          ]
        }
      ]
    },
    {
      "cell_type": "code",
      "source": [
        "import pandas as pd\n",
        "\n",
        "df = pd.read_csv(\"/content/Mock_Stock_Data.csv\")\n",
        "\n",
        "df"
      ],
      "metadata": {
        "colab": {
          "base_uri": "https://localhost:8080/",
          "height": 424
        },
        "id": "fl0EpG2XivGF",
        "outputId": "584c1f72-4363-4947-c219-937b3fa18053"
      },
      "execution_count": 2,
      "outputs": [
        {
          "output_type": "execute_result",
          "data": {
            "text/plain": [
              "              날짜         회사명   업종       상장일  지역   표준코드  단축코드     주가  상장 주식 수\n",
              "0       20100116  Company_21  소비재  20100116  울산  S3920  C185  12204    11026\n",
              "1       20100117  Company_21  소비재  20100116  울산  S3920  C185  12532    11026\n",
              "2       20100118  Company_21  소비재  20100116  울산  S3920  C185  12716    11026\n",
              "3       20100119  Company_21  소비재  20100116  울산  S3920  C185  13040    11026\n",
              "4       20100120  Company_21  소비재  20100116  울산  S3920  C185  13101    11026\n",
              "...          ...         ...  ...       ...  ..    ...   ...    ...      ...\n",
              "250113  20221231  Company_95   의료  20190517  울산  S7079  C682  89982    43319\n",
              "250114  20221231  Company_96  소비재  20221220  부산  S4090  C876  39847    43792\n",
              "250115  20221231  Company_97   금융  20170810  대구  S3533  C620    663     5592\n",
              "250116  20221231  Company_98  소비재  20110615  부산  S7821  C464  15041    30259\n",
              "250117  20221231  Company_99   의료  20170708  울산  S4906  C768  24425    35463\n",
              "\n",
              "[250118 rows x 9 columns]"
            ],
            "text/html": [
              "\n",
              "  <div id=\"df-6db53763-97f5-458b-b238-d8b2022f4373\" class=\"colab-df-container\">\n",
              "    <div>\n",
              "<style scoped>\n",
              "    .dataframe tbody tr th:only-of-type {\n",
              "        vertical-align: middle;\n",
              "    }\n",
              "\n",
              "    .dataframe tbody tr th {\n",
              "        vertical-align: top;\n",
              "    }\n",
              "\n",
              "    .dataframe thead th {\n",
              "        text-align: right;\n",
              "    }\n",
              "</style>\n",
              "<table border=\"1\" class=\"dataframe\">\n",
              "  <thead>\n",
              "    <tr style=\"text-align: right;\">\n",
              "      <th></th>\n",
              "      <th>날짜</th>\n",
              "      <th>회사명</th>\n",
              "      <th>업종</th>\n",
              "      <th>상장일</th>\n",
              "      <th>지역</th>\n",
              "      <th>표준코드</th>\n",
              "      <th>단축코드</th>\n",
              "      <th>주가</th>\n",
              "      <th>상장 주식 수</th>\n",
              "    </tr>\n",
              "  </thead>\n",
              "  <tbody>\n",
              "    <tr>\n",
              "      <th>0</th>\n",
              "      <td>20100116</td>\n",
              "      <td>Company_21</td>\n",
              "      <td>소비재</td>\n",
              "      <td>20100116</td>\n",
              "      <td>울산</td>\n",
              "      <td>S3920</td>\n",
              "      <td>C185</td>\n",
              "      <td>12204</td>\n",
              "      <td>11026</td>\n",
              "    </tr>\n",
              "    <tr>\n",
              "      <th>1</th>\n",
              "      <td>20100117</td>\n",
              "      <td>Company_21</td>\n",
              "      <td>소비재</td>\n",
              "      <td>20100116</td>\n",
              "      <td>울산</td>\n",
              "      <td>S3920</td>\n",
              "      <td>C185</td>\n",
              "      <td>12532</td>\n",
              "      <td>11026</td>\n",
              "    </tr>\n",
              "    <tr>\n",
              "      <th>2</th>\n",
              "      <td>20100118</td>\n",
              "      <td>Company_21</td>\n",
              "      <td>소비재</td>\n",
              "      <td>20100116</td>\n",
              "      <td>울산</td>\n",
              "      <td>S3920</td>\n",
              "      <td>C185</td>\n",
              "      <td>12716</td>\n",
              "      <td>11026</td>\n",
              "    </tr>\n",
              "    <tr>\n",
              "      <th>3</th>\n",
              "      <td>20100119</td>\n",
              "      <td>Company_21</td>\n",
              "      <td>소비재</td>\n",
              "      <td>20100116</td>\n",
              "      <td>울산</td>\n",
              "      <td>S3920</td>\n",
              "      <td>C185</td>\n",
              "      <td>13040</td>\n",
              "      <td>11026</td>\n",
              "    </tr>\n",
              "    <tr>\n",
              "      <th>4</th>\n",
              "      <td>20100120</td>\n",
              "      <td>Company_21</td>\n",
              "      <td>소비재</td>\n",
              "      <td>20100116</td>\n",
              "      <td>울산</td>\n",
              "      <td>S3920</td>\n",
              "      <td>C185</td>\n",
              "      <td>13101</td>\n",
              "      <td>11026</td>\n",
              "    </tr>\n",
              "    <tr>\n",
              "      <th>...</th>\n",
              "      <td>...</td>\n",
              "      <td>...</td>\n",
              "      <td>...</td>\n",
              "      <td>...</td>\n",
              "      <td>...</td>\n",
              "      <td>...</td>\n",
              "      <td>...</td>\n",
              "      <td>...</td>\n",
              "      <td>...</td>\n",
              "    </tr>\n",
              "    <tr>\n",
              "      <th>250113</th>\n",
              "      <td>20221231</td>\n",
              "      <td>Company_95</td>\n",
              "      <td>의료</td>\n",
              "      <td>20190517</td>\n",
              "      <td>울산</td>\n",
              "      <td>S7079</td>\n",
              "      <td>C682</td>\n",
              "      <td>89982</td>\n",
              "      <td>43319</td>\n",
              "    </tr>\n",
              "    <tr>\n",
              "      <th>250114</th>\n",
              "      <td>20221231</td>\n",
              "      <td>Company_96</td>\n",
              "      <td>소비재</td>\n",
              "      <td>20221220</td>\n",
              "      <td>부산</td>\n",
              "      <td>S4090</td>\n",
              "      <td>C876</td>\n",
              "      <td>39847</td>\n",
              "      <td>43792</td>\n",
              "    </tr>\n",
              "    <tr>\n",
              "      <th>250115</th>\n",
              "      <td>20221231</td>\n",
              "      <td>Company_97</td>\n",
              "      <td>금융</td>\n",
              "      <td>20170810</td>\n",
              "      <td>대구</td>\n",
              "      <td>S3533</td>\n",
              "      <td>C620</td>\n",
              "      <td>663</td>\n",
              "      <td>5592</td>\n",
              "    </tr>\n",
              "    <tr>\n",
              "      <th>250116</th>\n",
              "      <td>20221231</td>\n",
              "      <td>Company_98</td>\n",
              "      <td>소비재</td>\n",
              "      <td>20110615</td>\n",
              "      <td>부산</td>\n",
              "      <td>S7821</td>\n",
              "      <td>C464</td>\n",
              "      <td>15041</td>\n",
              "      <td>30259</td>\n",
              "    </tr>\n",
              "    <tr>\n",
              "      <th>250117</th>\n",
              "      <td>20221231</td>\n",
              "      <td>Company_99</td>\n",
              "      <td>의료</td>\n",
              "      <td>20170708</td>\n",
              "      <td>울산</td>\n",
              "      <td>S4906</td>\n",
              "      <td>C768</td>\n",
              "      <td>24425</td>\n",
              "      <td>35463</td>\n",
              "    </tr>\n",
              "  </tbody>\n",
              "</table>\n",
              "<p>250118 rows × 9 columns</p>\n",
              "</div>\n",
              "    <div class=\"colab-df-buttons\">\n",
              "\n",
              "  <div class=\"colab-df-container\">\n",
              "    <button class=\"colab-df-convert\" onclick=\"convertToInteractive('df-6db53763-97f5-458b-b238-d8b2022f4373')\"\n",
              "            title=\"Convert this dataframe to an interactive table.\"\n",
              "            style=\"display:none;\">\n",
              "\n",
              "  <svg xmlns=\"http://www.w3.org/2000/svg\" height=\"24px\" viewBox=\"0 -960 960 960\">\n",
              "    <path d=\"M120-120v-720h720v720H120Zm60-500h600v-160H180v160Zm220 220h160v-160H400v160Zm0 220h160v-160H400v160ZM180-400h160v-160H180v160Zm440 0h160v-160H620v160ZM180-180h160v-160H180v160Zm440 0h160v-160H620v160Z\"/>\n",
              "  </svg>\n",
              "    </button>\n",
              "\n",
              "  <style>\n",
              "    .colab-df-container {\n",
              "      display:flex;\n",
              "      gap: 12px;\n",
              "    }\n",
              "\n",
              "    .colab-df-convert {\n",
              "      background-color: #E8F0FE;\n",
              "      border: none;\n",
              "      border-radius: 50%;\n",
              "      cursor: pointer;\n",
              "      display: none;\n",
              "      fill: #1967D2;\n",
              "      height: 32px;\n",
              "      padding: 0 0 0 0;\n",
              "      width: 32px;\n",
              "    }\n",
              "\n",
              "    .colab-df-convert:hover {\n",
              "      background-color: #E2EBFA;\n",
              "      box-shadow: 0px 1px 2px rgba(60, 64, 67, 0.3), 0px 1px 3px 1px rgba(60, 64, 67, 0.15);\n",
              "      fill: #174EA6;\n",
              "    }\n",
              "\n",
              "    .colab-df-buttons div {\n",
              "      margin-bottom: 4px;\n",
              "    }\n",
              "\n",
              "    [theme=dark] .colab-df-convert {\n",
              "      background-color: #3B4455;\n",
              "      fill: #D2E3FC;\n",
              "    }\n",
              "\n",
              "    [theme=dark] .colab-df-convert:hover {\n",
              "      background-color: #434B5C;\n",
              "      box-shadow: 0px 1px 3px 1px rgba(0, 0, 0, 0.15);\n",
              "      filter: drop-shadow(0px 1px 2px rgba(0, 0, 0, 0.3));\n",
              "      fill: #FFFFFF;\n",
              "    }\n",
              "  </style>\n",
              "\n",
              "    <script>\n",
              "      const buttonEl =\n",
              "        document.querySelector('#df-6db53763-97f5-458b-b238-d8b2022f4373 button.colab-df-convert');\n",
              "      buttonEl.style.display =\n",
              "        google.colab.kernel.accessAllowed ? 'block' : 'none';\n",
              "\n",
              "      async function convertToInteractive(key) {\n",
              "        const element = document.querySelector('#df-6db53763-97f5-458b-b238-d8b2022f4373');\n",
              "        const dataTable =\n",
              "          await google.colab.kernel.invokeFunction('convertToInteractive',\n",
              "                                                    [key], {});\n",
              "        if (!dataTable) return;\n",
              "\n",
              "        const docLinkHtml = 'Like what you see? Visit the ' +\n",
              "          '<a target=\"_blank\" href=https://colab.research.google.com/notebooks/data_table.ipynb>data table notebook</a>'\n",
              "          + ' to learn more about interactive tables.';\n",
              "        element.innerHTML = '';\n",
              "        dataTable['output_type'] = 'display_data';\n",
              "        await google.colab.output.renderOutput(dataTable, element);\n",
              "        const docLink = document.createElement('div');\n",
              "        docLink.innerHTML = docLinkHtml;\n",
              "        element.appendChild(docLink);\n",
              "      }\n",
              "    </script>\n",
              "  </div>\n",
              "\n",
              "\n",
              "<div id=\"df-450227a3-8ac1-4010-b6a6-f246f414b8ac\">\n",
              "  <button class=\"colab-df-quickchart\" onclick=\"quickchart('df-450227a3-8ac1-4010-b6a6-f246f414b8ac')\"\n",
              "            title=\"Suggest charts.\"\n",
              "            style=\"display:none;\">\n",
              "\n",
              "<svg xmlns=\"http://www.w3.org/2000/svg\" height=\"24px\"viewBox=\"0 0 24 24\"\n",
              "     width=\"24px\">\n",
              "    <g>\n",
              "        <path d=\"M19 3H5c-1.1 0-2 .9-2 2v14c0 1.1.9 2 2 2h14c1.1 0 2-.9 2-2V5c0-1.1-.9-2-2-2zM9 17H7v-7h2v7zm4 0h-2V7h2v10zm4 0h-2v-4h2v4z\"/>\n",
              "    </g>\n",
              "</svg>\n",
              "  </button>\n",
              "\n",
              "<style>\n",
              "  .colab-df-quickchart {\n",
              "    background-color: #E8F0FE;\n",
              "    border: none;\n",
              "    border-radius: 50%;\n",
              "    cursor: pointer;\n",
              "    display: none;\n",
              "    fill: #1967D2;\n",
              "    height: 32px;\n",
              "    padding: 0 0 0 0;\n",
              "    width: 32px;\n",
              "  }\n",
              "\n",
              "  .colab-df-quickchart:hover {\n",
              "    background-color: #E2EBFA;\n",
              "    box-shadow: 0px 1px 2px rgba(60, 64, 67, 0.3), 0px 1px 3px 1px rgba(60, 64, 67, 0.15);\n",
              "    fill: #174EA6;\n",
              "  }\n",
              "\n",
              "  [theme=dark] .colab-df-quickchart {\n",
              "    background-color: #3B4455;\n",
              "    fill: #D2E3FC;\n",
              "  }\n",
              "\n",
              "  [theme=dark] .colab-df-quickchart:hover {\n",
              "    background-color: #434B5C;\n",
              "    box-shadow: 0px 1px 3px 1px rgba(0, 0, 0, 0.15);\n",
              "    filter: drop-shadow(0px 1px 2px rgba(0, 0, 0, 0.3));\n",
              "    fill: #FFFFFF;\n",
              "  }\n",
              "</style>\n",
              "\n",
              "  <script>\n",
              "    async function quickchart(key) {\n",
              "      const charts = await google.colab.kernel.invokeFunction(\n",
              "          'suggestCharts', [key], {});\n",
              "    }\n",
              "    (() => {\n",
              "      let quickchartButtonEl =\n",
              "        document.querySelector('#df-450227a3-8ac1-4010-b6a6-f246f414b8ac button');\n",
              "      quickchartButtonEl.style.display =\n",
              "        google.colab.kernel.accessAllowed ? 'block' : 'none';\n",
              "    })();\n",
              "  </script>\n",
              "</div>\n",
              "    </div>\n",
              "  </div>\n"
            ]
          },
          "metadata": {},
          "execution_count": 2
        }
      ]
    },
    {
      "cell_type": "markdown",
      "source": [
        "## Data Preprocessing"
      ],
      "metadata": {
        "id": "jIsLaeUlUj3l"
      }
    },
    {
      "cell_type": "code",
      "source": [
        "# 주어진 자료를 직접 확인하기\n",
        "\n",
        "# 데이터를 획득한 곳에 있는 Description을 읽어보거나 다운로드 받기\n",
        "# https://github.com/sunaroum/studynote/blob/main/dataset/data%20description.pdf"
      ],
      "metadata": {
        "id": "NnTpK5h5Uf2Y"
      },
      "execution_count": 3,
      "outputs": []
    },
    {
      "cell_type": "code",
      "source": [
        "# EDA\n",
        "\n",
        "df.info()"
      ],
      "metadata": {
        "colab": {
          "base_uri": "https://localhost:8080/"
        },
        "id": "nbM6ergkWC4F",
        "outputId": "ad8de2c1-5ebc-4bee-b619-28595345f235"
      },
      "execution_count": 4,
      "outputs": [
        {
          "output_type": "stream",
          "name": "stdout",
          "text": [
            "<class 'pandas.core.frame.DataFrame'>\n",
            "RangeIndex: 250118 entries, 0 to 250117\n",
            "Data columns (total 9 columns):\n",
            " #   Column   Non-Null Count   Dtype \n",
            "---  ------   --------------   ----- \n",
            " 0   날짜       250118 non-null  int64 \n",
            " 1   회사명      250118 non-null  object\n",
            " 2   업종       250118 non-null  object\n",
            " 3   상장일      250118 non-null  int64 \n",
            " 4   지역       250118 non-null  object\n",
            " 5   표준코드     250118 non-null  object\n",
            " 6   단축코드     250118 non-null  object\n",
            " 7   주가       250118 non-null  int64 \n",
            " 8   상장 주식 수  250118 non-null  int64 \n",
            "dtypes: int64(4), object(5)\n",
            "memory usage: 17.2+ MB\n"
          ]
        }
      ]
    },
    {
      "cell_type": "markdown",
      "source": [
        "### **주의사항**\n",
        "\n",
        "해당 데이터는 형식적인 코딩 절차를 구현하기 위한 모의 데이터로,\n",
        "실제 주식 데이터의 양상과는 큰 차이가 있습니다.\n",
        "\n",
        "ex - 상장 주식 수가 고정되어 있음, 주가의 변동이 형식적임 등\n",
        "\n"
      ],
      "metadata": {
        "id": "BcsF7K4pW4zT"
      }
    },
    {
      "cell_type": "markdown",
      "source": [
        "## Data Processing"
      ],
      "metadata": {
        "id": "cqneHcoyXPzv"
      }
    },
    {
      "cell_type": "markdown",
      "source": [
        "### 1. 데이터 수집 및 가공 단계"
      ],
      "metadata": {
        "id": "sCLENx9RXdcI"
      }
    },
    {
      "cell_type": "markdown",
      "source": [
        "- 이 단계에서는 주식 종목들의 과거 데이터를 기반으로 수익률 데이터를 수집하고 가공하여 사용 가능한 형태로 변환합니다.\n",
        "- 주요 Task :\n",
        "\t- 주식 종목의 과거 수익률 데이터를 수집하고 가공하기\n",
        "\t- 주식 종목 목록 및 해당 종목의 수익률 데이터를 얻기"
      ],
      "metadata": {
        "id": "IAE0fXl7anvv"
      }
    },
    {
      "cell_type": "code",
      "source": [
        "import pandas as pd\n",
        "\n",
        "# 데이터프레임 행 정렬\n",
        "df.sort_values(by=['날짜', '회사명'], inplace=True)\n",
        "\n",
        "# 주식 종목 목록 추출\n",
        "stock_list = df['회사명'].unique()\n",
        "\n",
        "# 주식 종목별 수익률 데이터 계산\n",
        "returns_data = []\n",
        "for stock in stock_list:\n",
        "    stock_data = df[df['회사명'] == stock].copy()  # 복사본 생성\n",
        "    stock_data['일별수익률'] = stock_data['주가'].pct_change()  # 일별 수익률 계산\n",
        "    returns_data.append(stock_data)\n",
        "\n",
        "# 주식 종목별 수익률 데이터프레임 생성\n",
        "returns_df = pd.concat(returns_data)"
      ],
      "metadata": {
        "id": "OvAupo922aH4"
      },
      "execution_count": 5,
      "outputs": []
    },
    {
      "cell_type": "code",
      "source": [
        "# 결과 데이터프레임 출력\n",
        "display(returns_df)"
      ],
      "metadata": {
        "colab": {
          "base_uri": "https://localhost:8080/",
          "height": 424
        },
        "id": "BRdeDNNmbbf2",
        "outputId": "d6414714-a6d3-4202-acae-ae35b6fa5c43"
      },
      "execution_count": 6,
      "outputs": [
        {
          "output_type": "display_data",
          "data": {
            "text/plain": [
              "              날짜         회사명   업종       상장일  지역   표준코드  단축코드     주가  상장 주식 수  \\\n",
              "0       20100116  Company_21  소비재  20100116  울산  S3920  C185  12204    11026   \n",
              "1       20100117  Company_21  소비재  20100116  울산  S3920  C185  12532    11026   \n",
              "2       20100118  Company_21  소비재  20100116  울산  S3920  C185  12716    11026   \n",
              "3       20100119  Company_21  소비재  20100116  울산  S3920  C185  13040    11026   \n",
              "4       20100120  Company_21  소비재  20100116  울산  S3920  C185  13101    11026   \n",
              "...          ...         ...  ...       ...  ..    ...   ...    ...      ...   \n",
              "249714  20221227  Company_96  소비재  20221220  부산  S4090  C876  35478    43792   \n",
              "249814  20221228  Company_96  소비재  20221220  부산  S4090  C876  36270    43792   \n",
              "249914  20221229  Company_96  소비재  20221220  부산  S4090  C876  37343    43792   \n",
              "250014  20221230  Company_96  소비재  20221220  부산  S4090  C876  38481    43792   \n",
              "250114  20221231  Company_96  소비재  20221220  부산  S4090  C876  39847    43792   \n",
              "\n",
              "           일별수익률  \n",
              "0            NaN  \n",
              "1       0.026876  \n",
              "2       0.014682  \n",
              "3       0.025480  \n",
              "4       0.004678  \n",
              "...          ...  \n",
              "249714 -0.029277  \n",
              "249814  0.022324  \n",
              "249914  0.029584  \n",
              "250014  0.030474  \n",
              "250114  0.035498  \n",
              "\n",
              "[250118 rows x 10 columns]"
            ],
            "text/html": [
              "\n",
              "  <div id=\"df-e835d408-85d7-4aa8-bde3-f28bb8980c59\" class=\"colab-df-container\">\n",
              "    <div>\n",
              "<style scoped>\n",
              "    .dataframe tbody tr th:only-of-type {\n",
              "        vertical-align: middle;\n",
              "    }\n",
              "\n",
              "    .dataframe tbody tr th {\n",
              "        vertical-align: top;\n",
              "    }\n",
              "\n",
              "    .dataframe thead th {\n",
              "        text-align: right;\n",
              "    }\n",
              "</style>\n",
              "<table border=\"1\" class=\"dataframe\">\n",
              "  <thead>\n",
              "    <tr style=\"text-align: right;\">\n",
              "      <th></th>\n",
              "      <th>날짜</th>\n",
              "      <th>회사명</th>\n",
              "      <th>업종</th>\n",
              "      <th>상장일</th>\n",
              "      <th>지역</th>\n",
              "      <th>표준코드</th>\n",
              "      <th>단축코드</th>\n",
              "      <th>주가</th>\n",
              "      <th>상장 주식 수</th>\n",
              "      <th>일별수익률</th>\n",
              "    </tr>\n",
              "  </thead>\n",
              "  <tbody>\n",
              "    <tr>\n",
              "      <th>0</th>\n",
              "      <td>20100116</td>\n",
              "      <td>Company_21</td>\n",
              "      <td>소비재</td>\n",
              "      <td>20100116</td>\n",
              "      <td>울산</td>\n",
              "      <td>S3920</td>\n",
              "      <td>C185</td>\n",
              "      <td>12204</td>\n",
              "      <td>11026</td>\n",
              "      <td>NaN</td>\n",
              "    </tr>\n",
              "    <tr>\n",
              "      <th>1</th>\n",
              "      <td>20100117</td>\n",
              "      <td>Company_21</td>\n",
              "      <td>소비재</td>\n",
              "      <td>20100116</td>\n",
              "      <td>울산</td>\n",
              "      <td>S3920</td>\n",
              "      <td>C185</td>\n",
              "      <td>12532</td>\n",
              "      <td>11026</td>\n",
              "      <td>0.026876</td>\n",
              "    </tr>\n",
              "    <tr>\n",
              "      <th>2</th>\n",
              "      <td>20100118</td>\n",
              "      <td>Company_21</td>\n",
              "      <td>소비재</td>\n",
              "      <td>20100116</td>\n",
              "      <td>울산</td>\n",
              "      <td>S3920</td>\n",
              "      <td>C185</td>\n",
              "      <td>12716</td>\n",
              "      <td>11026</td>\n",
              "      <td>0.014682</td>\n",
              "    </tr>\n",
              "    <tr>\n",
              "      <th>3</th>\n",
              "      <td>20100119</td>\n",
              "      <td>Company_21</td>\n",
              "      <td>소비재</td>\n",
              "      <td>20100116</td>\n",
              "      <td>울산</td>\n",
              "      <td>S3920</td>\n",
              "      <td>C185</td>\n",
              "      <td>13040</td>\n",
              "      <td>11026</td>\n",
              "      <td>0.025480</td>\n",
              "    </tr>\n",
              "    <tr>\n",
              "      <th>4</th>\n",
              "      <td>20100120</td>\n",
              "      <td>Company_21</td>\n",
              "      <td>소비재</td>\n",
              "      <td>20100116</td>\n",
              "      <td>울산</td>\n",
              "      <td>S3920</td>\n",
              "      <td>C185</td>\n",
              "      <td>13101</td>\n",
              "      <td>11026</td>\n",
              "      <td>0.004678</td>\n",
              "    </tr>\n",
              "    <tr>\n",
              "      <th>...</th>\n",
              "      <td>...</td>\n",
              "      <td>...</td>\n",
              "      <td>...</td>\n",
              "      <td>...</td>\n",
              "      <td>...</td>\n",
              "      <td>...</td>\n",
              "      <td>...</td>\n",
              "      <td>...</td>\n",
              "      <td>...</td>\n",
              "      <td>...</td>\n",
              "    </tr>\n",
              "    <tr>\n",
              "      <th>249714</th>\n",
              "      <td>20221227</td>\n",
              "      <td>Company_96</td>\n",
              "      <td>소비재</td>\n",
              "      <td>20221220</td>\n",
              "      <td>부산</td>\n",
              "      <td>S4090</td>\n",
              "      <td>C876</td>\n",
              "      <td>35478</td>\n",
              "      <td>43792</td>\n",
              "      <td>-0.029277</td>\n",
              "    </tr>\n",
              "    <tr>\n",
              "      <th>249814</th>\n",
              "      <td>20221228</td>\n",
              "      <td>Company_96</td>\n",
              "      <td>소비재</td>\n",
              "      <td>20221220</td>\n",
              "      <td>부산</td>\n",
              "      <td>S4090</td>\n",
              "      <td>C876</td>\n",
              "      <td>36270</td>\n",
              "      <td>43792</td>\n",
              "      <td>0.022324</td>\n",
              "    </tr>\n",
              "    <tr>\n",
              "      <th>249914</th>\n",
              "      <td>20221229</td>\n",
              "      <td>Company_96</td>\n",
              "      <td>소비재</td>\n",
              "      <td>20221220</td>\n",
              "      <td>부산</td>\n",
              "      <td>S4090</td>\n",
              "      <td>C876</td>\n",
              "      <td>37343</td>\n",
              "      <td>43792</td>\n",
              "      <td>0.029584</td>\n",
              "    </tr>\n",
              "    <tr>\n",
              "      <th>250014</th>\n",
              "      <td>20221230</td>\n",
              "      <td>Company_96</td>\n",
              "      <td>소비재</td>\n",
              "      <td>20221220</td>\n",
              "      <td>부산</td>\n",
              "      <td>S4090</td>\n",
              "      <td>C876</td>\n",
              "      <td>38481</td>\n",
              "      <td>43792</td>\n",
              "      <td>0.030474</td>\n",
              "    </tr>\n",
              "    <tr>\n",
              "      <th>250114</th>\n",
              "      <td>20221231</td>\n",
              "      <td>Company_96</td>\n",
              "      <td>소비재</td>\n",
              "      <td>20221220</td>\n",
              "      <td>부산</td>\n",
              "      <td>S4090</td>\n",
              "      <td>C876</td>\n",
              "      <td>39847</td>\n",
              "      <td>43792</td>\n",
              "      <td>0.035498</td>\n",
              "    </tr>\n",
              "  </tbody>\n",
              "</table>\n",
              "<p>250118 rows × 10 columns</p>\n",
              "</div>\n",
              "    <div class=\"colab-df-buttons\">\n",
              "\n",
              "  <div class=\"colab-df-container\">\n",
              "    <button class=\"colab-df-convert\" onclick=\"convertToInteractive('df-e835d408-85d7-4aa8-bde3-f28bb8980c59')\"\n",
              "            title=\"Convert this dataframe to an interactive table.\"\n",
              "            style=\"display:none;\">\n",
              "\n",
              "  <svg xmlns=\"http://www.w3.org/2000/svg\" height=\"24px\" viewBox=\"0 -960 960 960\">\n",
              "    <path d=\"M120-120v-720h720v720H120Zm60-500h600v-160H180v160Zm220 220h160v-160H400v160Zm0 220h160v-160H400v160ZM180-400h160v-160H180v160Zm440 0h160v-160H620v160ZM180-180h160v-160H180v160Zm440 0h160v-160H620v160Z\"/>\n",
              "  </svg>\n",
              "    </button>\n",
              "\n",
              "  <style>\n",
              "    .colab-df-container {\n",
              "      display:flex;\n",
              "      gap: 12px;\n",
              "    }\n",
              "\n",
              "    .colab-df-convert {\n",
              "      background-color: #E8F0FE;\n",
              "      border: none;\n",
              "      border-radius: 50%;\n",
              "      cursor: pointer;\n",
              "      display: none;\n",
              "      fill: #1967D2;\n",
              "      height: 32px;\n",
              "      padding: 0 0 0 0;\n",
              "      width: 32px;\n",
              "    }\n",
              "\n",
              "    .colab-df-convert:hover {\n",
              "      background-color: #E2EBFA;\n",
              "      box-shadow: 0px 1px 2px rgba(60, 64, 67, 0.3), 0px 1px 3px 1px rgba(60, 64, 67, 0.15);\n",
              "      fill: #174EA6;\n",
              "    }\n",
              "\n",
              "    .colab-df-buttons div {\n",
              "      margin-bottom: 4px;\n",
              "    }\n",
              "\n",
              "    [theme=dark] .colab-df-convert {\n",
              "      background-color: #3B4455;\n",
              "      fill: #D2E3FC;\n",
              "    }\n",
              "\n",
              "    [theme=dark] .colab-df-convert:hover {\n",
              "      background-color: #434B5C;\n",
              "      box-shadow: 0px 1px 3px 1px rgba(0, 0, 0, 0.15);\n",
              "      filter: drop-shadow(0px 1px 2px rgba(0, 0, 0, 0.3));\n",
              "      fill: #FFFFFF;\n",
              "    }\n",
              "  </style>\n",
              "\n",
              "    <script>\n",
              "      const buttonEl =\n",
              "        document.querySelector('#df-e835d408-85d7-4aa8-bde3-f28bb8980c59 button.colab-df-convert');\n",
              "      buttonEl.style.display =\n",
              "        google.colab.kernel.accessAllowed ? 'block' : 'none';\n",
              "\n",
              "      async function convertToInteractive(key) {\n",
              "        const element = document.querySelector('#df-e835d408-85d7-4aa8-bde3-f28bb8980c59');\n",
              "        const dataTable =\n",
              "          await google.colab.kernel.invokeFunction('convertToInteractive',\n",
              "                                                    [key], {});\n",
              "        if (!dataTable) return;\n",
              "\n",
              "        const docLinkHtml = 'Like what you see? Visit the ' +\n",
              "          '<a target=\"_blank\" href=https://colab.research.google.com/notebooks/data_table.ipynb>data table notebook</a>'\n",
              "          + ' to learn more about interactive tables.';\n",
              "        element.innerHTML = '';\n",
              "        dataTable['output_type'] = 'display_data';\n",
              "        await google.colab.output.renderOutput(dataTable, element);\n",
              "        const docLink = document.createElement('div');\n",
              "        docLink.innerHTML = docLinkHtml;\n",
              "        element.appendChild(docLink);\n",
              "      }\n",
              "    </script>\n",
              "  </div>\n",
              "\n",
              "\n",
              "<div id=\"df-ac3bde19-120d-4ded-83e9-431308296a75\">\n",
              "  <button class=\"colab-df-quickchart\" onclick=\"quickchart('df-ac3bde19-120d-4ded-83e9-431308296a75')\"\n",
              "            title=\"Suggest charts.\"\n",
              "            style=\"display:none;\">\n",
              "\n",
              "<svg xmlns=\"http://www.w3.org/2000/svg\" height=\"24px\"viewBox=\"0 0 24 24\"\n",
              "     width=\"24px\">\n",
              "    <g>\n",
              "        <path d=\"M19 3H5c-1.1 0-2 .9-2 2v14c0 1.1.9 2 2 2h14c1.1 0 2-.9 2-2V5c0-1.1-.9-2-2-2zM9 17H7v-7h2v7zm4 0h-2V7h2v10zm4 0h-2v-4h2v4z\"/>\n",
              "    </g>\n",
              "</svg>\n",
              "  </button>\n",
              "\n",
              "<style>\n",
              "  .colab-df-quickchart {\n",
              "    background-color: #E8F0FE;\n",
              "    border: none;\n",
              "    border-radius: 50%;\n",
              "    cursor: pointer;\n",
              "    display: none;\n",
              "    fill: #1967D2;\n",
              "    height: 32px;\n",
              "    padding: 0 0 0 0;\n",
              "    width: 32px;\n",
              "  }\n",
              "\n",
              "  .colab-df-quickchart:hover {\n",
              "    background-color: #E2EBFA;\n",
              "    box-shadow: 0px 1px 2px rgba(60, 64, 67, 0.3), 0px 1px 3px 1px rgba(60, 64, 67, 0.15);\n",
              "    fill: #174EA6;\n",
              "  }\n",
              "\n",
              "  [theme=dark] .colab-df-quickchart {\n",
              "    background-color: #3B4455;\n",
              "    fill: #D2E3FC;\n",
              "  }\n",
              "\n",
              "  [theme=dark] .colab-df-quickchart:hover {\n",
              "    background-color: #434B5C;\n",
              "    box-shadow: 0px 1px 3px 1px rgba(0, 0, 0, 0.15);\n",
              "    filter: drop-shadow(0px 1px 2px rgba(0, 0, 0, 0.3));\n",
              "    fill: #FFFFFF;\n",
              "  }\n",
              "</style>\n",
              "\n",
              "  <script>\n",
              "    async function quickchart(key) {\n",
              "      const charts = await google.colab.kernel.invokeFunction(\n",
              "          'suggestCharts', [key], {});\n",
              "    }\n",
              "    (() => {\n",
              "      let quickchartButtonEl =\n",
              "        document.querySelector('#df-ac3bde19-120d-4ded-83e9-431308296a75 button');\n",
              "      quickchartButtonEl.style.display =\n",
              "        google.colab.kernel.accessAllowed ? 'block' : 'none';\n",
              "    })();\n",
              "  </script>\n",
              "</div>\n",
              "    </div>\n",
              "  </div>\n"
            ]
          },
          "metadata": {}
        }
      ]
    },
    {
      "cell_type": "markdown",
      "source": [
        "### 2. 리스크와 수익률 계산 단계"
      ],
      "metadata": {
        "id": "OtYWId8BaYPM"
      }
    },
    {
      "cell_type": "markdown",
      "source": [
        "- 이 단계에서는 각 주식 종목의 리스크와 수익률을 계산하고, 포트폴리오의 전체 리스크와 예상 수익률을 평가합니다.\n",
        "- 주요 Task :\n",
        "\t- 주식 종목의 수익률과 통계의 산술평균 개념을 이용해서 평균 수익률 계산하기\n",
        "\t- 주식 종목의 수익률과 통계의 표준편차 개념을 이용해서 리스크 계산하기"
      ],
      "metadata": {
        "id": "Zp5Rvy5VatgD"
      }
    },
    {
      "cell_type": "code",
      "source": [
        "# 주식 종목별 평균 수익률 계산\n",
        "average_returns = returns_df.groupby('회사명')['일별수익률'].mean()\n",
        "\n",
        "# 주식 종목별 리스크(표준편차) 계산\n",
        "risk_stddev = returns_df.groupby('회사명')['일별수익률'].std()"
      ],
      "metadata": {
        "id": "0g6t1EIJ7Ddu"
      },
      "execution_count": 7,
      "outputs": []
    },
    {
      "cell_type": "code",
      "source": [
        "# 좀 더 보기 쉽게 만들어봅시다\n",
        "\n",
        "# 수익률 순위 계산\n",
        "returns_ranking = average_returns.sort_values(ascending=False)\n",
        "\n",
        "# 결과 출력\n",
        "print(\"주식 종목별 수익률 및 리스크 순위:\")\n",
        "for rank, stock in enumerate(returns_ranking.index, start=1):\n",
        "    avg_return = average_returns[stock]\n",
        "    risk = risk_stddev[stock]\n",
        "    print(f\"{rank}. 회사명: {stock}, 평균 수익률: {avg_return:.4f}, 리스크(표준편차): {risk:.4f}\")"
      ],
      "metadata": {
        "colab": {
          "base_uri": "https://localhost:8080/"
        },
        "id": "2dIM2NI7bm8y",
        "outputId": "a3878cc5-7c33-4eac-8fae-16af727bb191"
      },
      "execution_count": 8,
      "outputs": [
        {
          "output_type": "stream",
          "name": "stdout",
          "text": [
            "주식 종목별 수익률 및 리스크 순위:\n",
            "1. 회사명: Company_96, 평균 수익률: 0.0193, 리스크(표준편차): 0.0302\n",
            "2. 회사명: Company_18, 평균 수익률: 0.0027, 리스크(표준편차): 0.0292\n",
            "3. 회사명: Company_13, 평균 수익률: 0.0019, 리스크(표준편차): 0.0293\n",
            "4. 회사명: Company_80, 평균 수익률: 0.0017, 리스크(표준편차): 0.0294\n",
            "5. 회사명: Company_53, 평균 수익률: 0.0016, 리스크(표준편차): 0.0292\n",
            "6. 회사명: Company_16, 평균 수익률: 0.0015, 리스크(표준편차): 0.0293\n",
            "7. 회사명: Company_58, 평균 수익률: 0.0012, 리스크(표준편차): 0.0290\n",
            "8. 회사명: Company_37, 평균 수익률: 0.0011, 리스크(표준편차): 0.0288\n",
            "9. 회사명: Company_95, 평균 수익률: 0.0011, 리스크(표준편차): 0.0295\n",
            "10. 회사명: Company_19, 평균 수익률: 0.0010, 리스크(표준편차): 0.0290\n",
            "11. 회사명: Company_52, 평균 수익률: 0.0009, 리스크(표준편차): 0.0287\n",
            "12. 회사명: Company_1, 평균 수익률: 0.0009, 리스크(표준편차): 0.0291\n",
            "13. 회사명: Company_32, 평균 수익률: 0.0009, 리스크(표준편차): 0.0287\n",
            "14. 회사명: Company_44, 평균 수익률: 0.0008, 리스크(표준편차): 0.0283\n",
            "15. 회사명: Company_42, 평균 수익률: 0.0007, 리스크(표준편차): 0.0289\n",
            "16. 회사명: Company_85, 평균 수익률: 0.0007, 리스크(표준편차): 0.0283\n",
            "17. 회사명: Company_4, 평균 수익률: 0.0005, 리스크(표준편차): 0.0289\n",
            "18. 회사명: Company_36, 평균 수익률: 0.0005, 리스크(표준편차): 0.0288\n",
            "19. 회사명: Company_93, 평균 수익률: 0.0005, 리스크(표준편차): 0.0286\n",
            "20. 회사명: Company_45, 평균 수익률: 0.0005, 리스크(표준편차): 0.0285\n",
            "21. 회사명: Company_99, 평균 수익률: 0.0005, 리스크(표준편차): 0.0285\n",
            "22. 회사명: Company_3, 평균 수익률: 0.0004, 리스크(표준편차): 0.0290\n",
            "23. 회사명: Company_54, 평균 수익률: 0.0004, 리스크(표준편차): 0.0294\n",
            "24. 회사명: Company_74, 평균 수익률: 0.0004, 리스크(표준편차): 0.0291\n",
            "25. 회사명: Company_34, 평균 수익률: 0.0004, 리스크(표준편차): 0.0288\n",
            "26. 회사명: Company_9, 평균 수익률: 0.0004, 리스크(표준편차): 0.0290\n",
            "27. 회사명: Company_46, 평균 수익률: 0.0004, 리스크(표준편차): 0.0288\n",
            "28. 회사명: Company_56, 평균 수익률: 0.0004, 리스크(표준편차): 0.0289\n",
            "29. 회사명: Company_28, 평균 수익률: 0.0004, 리스크(표준편차): 0.0290\n",
            "30. 회사명: Company_75, 평균 수익률: 0.0004, 리스크(표준편차): 0.0286\n",
            "31. 회사명: Company_11, 평균 수익률: 0.0003, 리스크(표준편차): 0.0291\n",
            "32. 회사명: Company_65, 평균 수익률: 0.0003, 리스크(표준편차): 0.0289\n",
            "33. 회사명: Company_20, 평균 수익률: 0.0003, 리스크(표준편차): 0.0292\n",
            "34. 회사명: Company_57, 평균 수익률: 0.0003, 리스크(표준편차): 0.0290\n",
            "35. 회사명: Company_62, 평균 수익률: 0.0003, 리스크(표준편차): 0.0292\n",
            "36. 회사명: Company_63, 평균 수익률: 0.0003, 리스크(표준편차): 0.0287\n",
            "37. 회사명: Company_66, 평균 수익률: 0.0002, 리스크(표준편차): 0.0289\n",
            "38. 회사명: Company_8, 평균 수익률: 0.0002, 리스크(표준편차): 0.0291\n",
            "39. 회사명: Company_82, 평균 수익률: 0.0002, 리스크(표준편차): 0.0289\n",
            "40. 회사명: Company_26, 평균 수익률: 0.0002, 리스크(표준편차): 0.0291\n",
            "41. 회사명: Company_23, 평균 수익률: 0.0002, 리스크(표준편차): 0.0284\n",
            "42. 회사명: Company_29, 평균 수익률: 0.0002, 리스크(표준편차): 0.0286\n",
            "43. 회사명: Company_87, 평균 수익률: 0.0002, 리스크(표준편차): 0.0286\n",
            "44. 회사명: Company_98, 평균 수익률: 0.0001, 리스크(표준편차): 0.0291\n",
            "45. 회사명: Company_81, 평균 수익률: 0.0001, 리스크(표준편차): 0.0287\n",
            "46. 회사명: Company_47, 평균 수익률: 0.0001, 리스크(표준편차): 0.0285\n",
            "47. 회사명: Company_15, 평균 수익률: 0.0001, 리스크(표준편차): 0.0290\n",
            "48. 회사명: Company_39, 평균 수익률: 0.0001, 리스크(표준편차): 0.0289\n",
            "49. 회사명: Company_24, 평균 수익률: 0.0000, 리스크(표준편차): 0.0287\n",
            "50. 회사명: Company_61, 평균 수익률: 0.0000, 리스크(표준편차): 0.0290\n",
            "51. 회사명: Company_88, 평균 수익률: 0.0000, 리스크(표준편차): 0.0287\n",
            "52. 회사명: Company_72, 평균 수익률: 0.0000, 리스크(표준편차): 0.0289\n",
            "53. 회사명: Company_21, 평균 수익률: 0.0000, 리스크(표준편차): 0.0290\n",
            "54. 회사명: Company_7, 평균 수익률: 0.0000, 리스크(표준편차): 0.0291\n",
            "55. 회사명: Company_38, 평균 수익률: -0.0000, 리스크(표준편차): 0.0290\n",
            "56. 회사명: Company_91, 평균 수익률: -0.0001, 리스크(표준편차): 0.0286\n",
            "57. 회사명: Company_35, 평균 수익률: -0.0001, 리스크(표준편차): 0.0289\n",
            "58. 회사명: Company_41, 평균 수익률: -0.0002, 리스크(표준편차): 0.0284\n",
            "59. 회사명: Company_77, 평균 수익률: -0.0002, 리스크(표준편차): 0.0288\n",
            "60. 회사명: Company_76, 평균 수익률: -0.0002, 리스크(표준편차): 0.0288\n",
            "61. 회사명: Company_78, 평균 수익률: -0.0002, 리스크(표준편차): 0.0288\n",
            "62. 회사명: Company_50, 평균 수익률: -0.0002, 리스크(표준편차): 0.0286\n",
            "63. 회사명: Company_64, 평균 수익률: -0.0003, 리스크(표준편차): 0.0289\n",
            "64. 회사명: Company_97, 평균 수익률: -0.0003, 리스크(표준편차): 0.0289\n",
            "65. 회사명: Company_22, 평균 수익률: -0.0003, 리스크(표준편차): 0.0289\n",
            "66. 회사명: Company_49, 평균 수익률: -0.0003, 리스크(표준편차): 0.0288\n",
            "67. 회사명: Company_70, 평균 수익률: -0.0003, 리스크(표준편차): 0.0288\n",
            "68. 회사명: Company_71, 평균 수익률: -0.0003, 리스크(표준편차): 0.0294\n",
            "69. 회사명: Company_30, 평균 수익률: -0.0003, 리스크(표준편차): 0.0287\n",
            "70. 회사명: Company_83, 평균 수익률: -0.0003, 리스크(표준편차): 0.0284\n",
            "71. 회사명: Company_90, 평균 수익률: -0.0004, 리스크(표준편차): 0.0290\n",
            "72. 회사명: Company_89, 평균 수익률: -0.0004, 리스크(표준편차): 0.0275\n",
            "73. 회사명: Company_79, 평균 수익률: -0.0004, 리스크(표준편차): 0.0291\n",
            "74. 회사명: Company_86, 평균 수익률: -0.0004, 리스크(표준편차): 0.0287\n",
            "75. 회사명: Company_48, 평균 수익률: -0.0004, 리스크(표준편차): 0.0283\n",
            "76. 회사명: Company_31, 평균 수익률: -0.0004, 리스크(표준편차): 0.0288\n",
            "77. 회사명: Company_0, 평균 수익률: -0.0005, 리스크(표준편차): 0.0288\n",
            "78. 회사명: Company_73, 평균 수익률: -0.0005, 리스크(표준편차): 0.0292\n",
            "79. 회사명: Company_5, 평균 수익률: -0.0005, 리스크(표준편차): 0.0287\n",
            "80. 회사명: Company_12, 평균 수익률: -0.0005, 리스크(표준편차): 0.0287\n",
            "81. 회사명: Company_68, 평균 수익률: -0.0006, 리스크(표준편차): 0.0288\n",
            "82. 회사명: Company_25, 평균 수익률: -0.0006, 리스크(표준편차): 0.0300\n",
            "83. 회사명: Company_27, 평균 수익률: -0.0006, 리스크(표준편차): 0.0286\n",
            "84. 회사명: Company_10, 평균 수익률: -0.0006, 리스크(표준편차): 0.0293\n",
            "85. 회사명: Company_40, 평균 수익률: -0.0006, 리스크(표준편차): 0.0288\n",
            "86. 회사명: Company_33, 평균 수익률: -0.0007, 리스크(표준편차): 0.0288\n",
            "87. 회사명: Company_17, 평균 수익률: -0.0007, 리스크(표준편차): 0.0289\n",
            "88. 회사명: Company_60, 평균 수익률: -0.0007, 리스크(표준편차): 0.0294\n",
            "89. 회사명: Company_43, 평균 수익률: -0.0007, 리스크(표준편차): 0.0283\n",
            "90. 회사명: Company_59, 평균 수익률: -0.0007, 리스크(표준편차): 0.0271\n",
            "91. 회사명: Company_84, 평균 수익률: -0.0008, 리스크(표준편차): 0.0283\n",
            "92. 회사명: Company_67, 평균 수익률: -0.0009, 리스크(표준편차): 0.0287\n",
            "93. 회사명: Company_92, 평균 수익률: -0.0009, 리스크(표준편차): 0.0290\n",
            "94. 회사명: Company_94, 평균 수익률: -0.0011, 리스크(표준편차): 0.0288\n",
            "95. 회사명: Company_55, 평균 수익률: -0.0011, 리스크(표준편차): 0.0279\n",
            "96. 회사명: Company_6, 평균 수익률: -0.0014, 리스크(표준편차): 0.0295\n",
            "97. 회사명: Company_14, 평균 수익률: -0.0025, 리스크(표준편차): 0.0285\n",
            "98. 회사명: Company_69, 평균 수익률: -0.0028, 리스크(표준편차): 0.0295\n",
            "99. 회사명: Company_2, 평균 수익률: -0.0031, 리스크(표준편차): 0.0282\n",
            "100. 회사명: Company_51, 평균 수익률: -0.0038, 리스크(표준편차): 0.0286\n"
          ]
        }
      ]
    },
    {
      "cell_type": "markdown",
      "source": [
        "### 3. 포트폴리오 최적화 모델링 단계"
      ],
      "metadata": {
        "id": "PHDJ3sZqaY35"
      }
    },
    {
      "cell_type": "markdown",
      "source": [
        "- 이 단계에서는 다양한 수학적 최적화 기법을 활용하여 주식 포트폴리오의 조합을 찾습니다.\n",
        "- 주요 Task :\n",
        "\t- 주어진 종목들에 대해 포트폴리오 조합을 찾는 최적화 문제를 정의하기\n",
        "\t- 그 중에서도 특별히 Markowitz의 포트폴리오 이론을 활용하여 리스크-수익률 공간에서 효율적인 포트폴리오 조합을 찾기"
      ],
      "metadata": {
        "id": "3AfeJugMa6B4"
      }
    },
    {
      "cell_type": "markdown",
      "source": [
        "**최적화 문제 정의하기**\n",
        "\n",
        "1. <b> 최적화의 목적 </b> : 주어진 주식 종목으로 구성된 포트폴리오에서 기대 수익률을 극대화하거나 리스크를 최소화하는 포트폴리오 비중을 찾는 것\n",
        "\n",
        "2. <b> 최적화에서 사용하는 변수 </b> : 각 주식 종목에 대한 비중 (0 ~ 1 사이의 값, 총 합이 1이어야 함)"
      ],
      "metadata": {
        "id": "lGcG4SlidZLb"
      }
    },
    {
      "cell_type": "code",
      "source": [
        "import cvxpy as cp\n",
        "import numpy as np\n",
        "\n",
        "# 실제 분석 데이터를 사용할 때는 공분산으로 변경해서 사용하는 편이 간편함\n",
        "average_returns = returns_df.groupby('회사명')['일별수익률'].mean()\n",
        "cov_matrix = returns_df.pivot_table(index='날짜', columns='회사명', values='일별수익률', aggfunc='mean').cov()\n",
        "\n",
        "# Markowitz 포트폴리오 최적화\n",
        "num_assets = len(stock_list)\n",
        "weights = cp.Variable(num_assets)\n",
        "expected_returns = np.array(average_returns)\n",
        "risk_free_rate = 0.03  # 무위험 이자율 (임의 설정)\n",
        "\n",
        "# 목적 함수: 포트폴리오 수익률 - 리스크 조절항 (최대로 만드는 목표)\n",
        "objective = cp.Maximize(expected_returns @ weights - risk_free_rate * cp.sum(weights))"
      ],
      "metadata": {
        "id": "1ynhkGVRFFOm"
      },
      "execution_count": 9,
      "outputs": []
    },
    {
      "cell_type": "code",
      "source": [
        "print(\"★ 평균 수익률 ★\")\n",
        "print(average_returns)\n",
        "print(\" \")\n",
        "\n",
        "print(\"★ 리스크 ★\")\n",
        "print(cov_matrix)\n",
        "print(\" \")\n",
        "\n",
        "print(\"★ 종목 개수 ★\")\n",
        "print(num_assets)\n",
        "print(\" \")\n",
        "\n",
        "print(\"★ 비중 ★\")\n",
        "print(weights)\n",
        "print(\" \")\n",
        "\n",
        "print(\"★ 기대 수익률 ★\")\n",
        "print(expected_returns)\n",
        "print(\" \")\n",
        "\n",
        "print(\"★ 무위험 이자율 ★\")\n",
        "print(risk_free_rate)\n",
        "print(\" \")\n",
        "\n",
        "print(\"★ 목적 함수 ★\")\n",
        "print(objective)"
      ],
      "metadata": {
        "colab": {
          "base_uri": "https://localhost:8080/"
        },
        "id": "uXO5SI_ecN9V",
        "outputId": "f21d9383-8a66-4e0b-9711-333e2ca3b69d"
      },
      "execution_count": 10,
      "outputs": [
        {
          "output_type": "stream",
          "name": "stdout",
          "text": [
            "★ 평균 수익률 ★\n",
            "회사명\n",
            "Company_0    -0.000450\n",
            "Company_1     0.000879\n",
            "Company_10   -0.000640\n",
            "Company_11    0.000315\n",
            "Company_12   -0.000545\n",
            "                ...   \n",
            "Company_95    0.001055\n",
            "Company_96    0.019324\n",
            "Company_97   -0.000264\n",
            "Company_98    0.000142\n",
            "Company_99    0.000468\n",
            "Name: 일별수익률, Length: 100, dtype: float64\n",
            " \n",
            "★ 리스크 ★\n",
            "회사명         Company_0     Company_1    Company_10    Company_11  Company_12  \\\n",
            "회사명                                                                           \n",
            "Company_0    0.000831 -2.058193e-05 -1.595524e-05  1.362187e-05    0.000032   \n",
            "Company_1   -0.000021  8.476282e-04  2.403813e-06  3.117358e-07    0.000003   \n",
            "Company_10  -0.000016  2.403813e-06  8.560350e-04 -1.819424e-05    0.000043   \n",
            "Company_11   0.000014  3.117358e-07 -1.819424e-05  8.468725e-04   -0.000026   \n",
            "Company_12   0.000032  2.583202e-06  4.291235e-05 -2.616372e-05    0.000824   \n",
            "...               ...           ...           ...           ...         ...   \n",
            "Company_95  -0.000033 -2.519464e-05 -1.389795e-05 -1.283442e-07   -0.000002   \n",
            "Company_96  -0.000460  2.334172e-04  5.442702e-04  5.984519e-05   -0.000095   \n",
            "Company_97  -0.000009 -7.044812e-06  2.252881e-06 -2.315964e-06    0.000004   \n",
            "Company_98  -0.000027 -1.568000e-05 -6.022122e-07 -1.032753e-05   -0.000015   \n",
            "Company_99   0.000020  2.754785e-05 -2.843605e-05 -1.118925e-06   -0.000002   \n",
            "\n",
            "회사명         Company_13  Company_14  Company_15  Company_16  Company_17  ...  \\\n",
            "회사명                                                                     ...   \n",
            "Company_0     0.000004    0.000013   -0.000021    0.000019   -0.000003  ...   \n",
            "Company_1     0.000012   -0.000023   -0.000005   -0.000030    0.000012  ...   \n",
            "Company_10    0.000027   -0.000063   -0.000031    0.000004    0.000003  ...   \n",
            "Company_11    0.000003    0.000023   -0.000013    0.000017   -0.000010  ...   \n",
            "Company_12   -0.000030    0.000010    0.000044    0.000030   -0.000021  ...   \n",
            "...                ...         ...         ...         ...         ...  ...   \n",
            "Company_95   -0.000003   -0.000012   -0.000022    0.000006    0.000006  ...   \n",
            "Company_96    0.000183   -0.000055   -0.000357    0.000133    0.000149  ...   \n",
            "Company_97    0.000045    0.000036    0.000012   -0.000020    0.000062  ...   \n",
            "Company_98    0.000027    0.000024    0.000036    0.000022   -0.000063  ...   \n",
            "Company_99   -0.000013   -0.000040    0.000013   -0.000030    0.000008  ...   \n",
            "\n",
            "회사명         Company_90  Company_91  Company_92  Company_93    Company_94  \\\n",
            "회사명                                                                        \n",
            "Company_0    -0.000015   -0.000025   -0.000005   -0.000010  1.317040e-05   \n",
            "Company_1     0.000005   -0.000013    0.000001    0.000005 -4.438165e-05   \n",
            "Company_10    0.000019    0.000005    0.000005   -0.000010  2.923991e-05   \n",
            "Company_11   -0.000012    0.000040   -0.000006    0.000025 -3.429830e-05   \n",
            "Company_12   -0.000007    0.000046    0.000010   -0.000022 -2.271525e-05   \n",
            "...                ...         ...         ...         ...           ...   \n",
            "Company_95    0.000005    0.000005    0.000024   -0.000055 -4.780260e-05   \n",
            "Company_96    0.000519    0.000200   -0.000257   -0.000355 -5.651349e-04   \n",
            "Company_97   -0.000020    0.000045   -0.000008   -0.000002  2.776970e-07   \n",
            "Company_98   -0.000003   -0.000015    0.000005   -0.000002 -3.313713e-05   \n",
            "Company_99   -0.000020   -0.000029   -0.000013   -0.000002  2.272162e-05   \n",
            "\n",
            "회사명           Company_95  Company_96  Company_97    Company_98  Company_99  \n",
            "회사명                                                                         \n",
            "Company_0  -3.268929e-05   -0.000460   -0.000009 -2.691153e-05    0.000020  \n",
            "Company_1  -2.519464e-05    0.000233   -0.000007 -1.568000e-05    0.000028  \n",
            "Company_10 -1.389795e-05    0.000544    0.000002 -6.022122e-07   -0.000028  \n",
            "Company_11 -1.283442e-07    0.000060   -0.000002 -1.032753e-05   -0.000001  \n",
            "Company_12 -1.837599e-06   -0.000095    0.000004 -1.457401e-05   -0.000002  \n",
            "...                  ...         ...         ...           ...         ...  \n",
            "Company_95  8.679470e-04   -0.000302   -0.000004  2.484994e-05    0.000003  \n",
            "Company_96 -3.024797e-04    0.000915    0.000145 -1.134888e-04   -0.000332  \n",
            "Company_97 -4.470475e-06    0.000145    0.000836 -9.499308e-06   -0.000009  \n",
            "Company_98  2.484994e-05   -0.000113   -0.000009  8.451064e-04    0.000005  \n",
            "Company_99  2.627019e-06   -0.000332   -0.000009  4.931098e-06    0.000812  \n",
            "\n",
            "[100 rows x 100 columns]\n",
            " \n",
            "★ 종목 개수 ★\n",
            "100\n",
            " \n",
            "★ 비중 ★\n",
            "var1\n",
            " \n",
            "★ 기대 수익률 ★\n",
            "[-4.50067755e-04  8.79453525e-04 -6.39947008e-04  3.15354671e-04\n",
            " -5.44964823e-04  1.88763216e-03 -2.45968175e-03  9.19808586e-05\n",
            "  1.47456876e-03 -7.00725195e-04  2.73776185e-03  9.93175969e-04\n",
            " -3.05386288e-03  3.09278195e-04  1.08589725e-05 -2.80654479e-04\n",
            "  1.79859727e-04  4.23034184e-05 -5.83628602e-04  1.88537652e-04\n",
            " -6.29479183e-04  3.62728659e-04  1.68182014e-04  4.27834172e-04\n",
            " -3.37189050e-04 -4.42503950e-04  8.70130484e-04 -6.97276913e-04\n",
            "  3.93423635e-04 -1.24826481e-04  5.39168249e-04  1.09070810e-03\n",
            " -4.61587622e-06  8.15089317e-05  5.44822172e-04 -6.42749751e-04\n",
            " -1.69178544e-04  7.04676964e-04 -7.19731101e-04  7.94337559e-04\n",
            "  4.88068864e-04  3.79827253e-04  1.17514559e-04 -4.19425015e-04\n",
            " -3.08618215e-04 -4.79327773e-04 -2.27717861e-04 -3.78254339e-03\n",
            "  9.09812188e-04  1.64654460e-03  4.15667832e-04 -1.13399610e-03\n",
            "  3.66794728e-04  3.02640568e-04  1.21144253e-03 -7.40153434e-04\n",
            " -1.41197800e-03 -7.14803298e-04  2.62082362e-05  2.91532897e-04\n",
            "  2.78739209e-04 -2.57353110e-04  3.11993690e-04  2.24301316e-04\n",
            " -9.22866608e-04 -5.63225663e-04 -2.76444621e-03  2.05731097e-06\n",
            " -3.30152188e-04 -3.36986898e-04  1.21754711e-05 -4.51672925e-04\n",
            "  4.10258321e-04  3.58136412e-04 -2.07270160e-04 -1.99230544e-04\n",
            " -2.16969315e-04 -4.04572305e-04  2.21420675e-04  1.66159045e-03\n",
            "  1.40260989e-04  1.97416521e-04 -3.44073078e-04 -8.22577540e-04\n",
            "  6.98770767e-04 -4.08554233e-04  1.52524078e-04  2.41796378e-05\n",
            " -4.03559651e-04  3.90465522e-04 -4.00709648e-04 -6.88969995e-05\n",
            " -9.31984618e-04  4.89178910e-04 -1.10490266e-03  1.05471483e-03\n",
            "  1.93244338e-02 -2.64096297e-04  1.42000891e-04  4.67858121e-04]\n",
            " \n",
            "★ 무위험 이자율 ★\n",
            "0.03\n",
            " \n",
            "★ 목적 함수 ★\n",
            "maximize [-4.50067755e-04  8.79453525e-04 -6.39947008e-04  3.15354671e-04\n",
            " -5.44964823e-04  1.88763216e-03 -2.45968175e-03  9.19808586e-05\n",
            "  1.47456876e-03 -7.00725195e-04  2.73776185e-03  9.93175969e-04\n",
            " -3.05386288e-03  3.09278195e-04  1.08589725e-05 -2.80654479e-04\n",
            "  1.79859727e-04  4.23034184e-05 -5.83628602e-04  1.88537652e-04\n",
            " -6.29479183e-04  3.62728659e-04  1.68182014e-04  4.27834172e-04\n",
            " -3.37189050e-04 -4.42503950e-04  8.70130484e-04 -6.97276913e-04\n",
            "  3.93423635e-04 -1.24826481e-04  5.39168249e-04  1.09070810e-03\n",
            " -4.61587622e-06  8.15089317e-05  5.44822172e-04 -6.42749751e-04\n",
            " -1.69178544e-04  7.04676964e-04 -7.19731101e-04  7.94337559e-04\n",
            "  4.88068864e-04  3.79827253e-04  1.17514559e-04 -4.19425015e-04\n",
            " -3.08618215e-04 -4.79327773e-04 -2.27717861e-04 -3.78254339e-03\n",
            "  9.09812188e-04  1.64654460e-03  4.15667832e-04 -1.13399610e-03\n",
            "  3.66794728e-04  3.02640568e-04  1.21144253e-03 -7.40153434e-04\n",
            " -1.41197800e-03 -7.14803298e-04  2.62082362e-05  2.91532897e-04\n",
            "  2.78739209e-04 -2.57353110e-04  3.11993690e-04  2.24301316e-04\n",
            " -9.22866608e-04 -5.63225663e-04 -2.76444621e-03  2.05731097e-06\n",
            " -3.30152188e-04 -3.36986898e-04  1.21754711e-05 -4.51672925e-04\n",
            "  4.10258321e-04  3.58136412e-04 -2.07270160e-04 -1.99230544e-04\n",
            " -2.16969315e-04 -4.04572305e-04  2.21420675e-04  1.66159045e-03\n",
            "  1.40260989e-04  1.97416521e-04 -3.44073078e-04 -8.22577540e-04\n",
            "  6.98770767e-04 -4.08554233e-04  1.52524078e-04  2.41796378e-05\n",
            " -4.03559651e-04  3.90465522e-04 -4.00709648e-04 -6.88969995e-05\n",
            " -9.31984618e-04  4.89178910e-04 -1.10490266e-03  1.05471483e-03\n",
            "  1.93244338e-02 -2.64096297e-04  1.42000891e-04  4.67858121e-04] @ var1 + -0.03 @ Sum(var1, None, False)\n"
          ]
        }
      ]
    },
    {
      "cell_type": "markdown",
      "source": [
        "### 4. 제약 조건 고려 단계"
      ],
      "metadata": {
        "id": "xn1y0chPaY_U"
      }
    },
    {
      "cell_type": "markdown",
      "source": [
        "- 이 단계에서는 투자자의 선호도나 제약 조건 (예: 최소 수익률 달성, 최대 리스크 허용 등)을 포트폴리오 최적화 모델에 반영합니다.\n",
        "- 주요 Task :\n",
        "\t- 투자자의 제약 조건을 최적화 모델에 추가하기\n",
        "\t- 최소 수익률 달성, 최대 리스크 허용 등의 제약 조건을 정의하기"
      ],
      "metadata": {
        "id": "FjMqdkp7a6X4"
      }
    },
    {
      "cell_type": "code",
      "source": [
        "# 제약 조건: 비중의 합은 1, 각 비중은 0 이상 1 이하여야 함\n",
        "constraints = [cp.sum(weights) == 1, weights >= 0, weights <= 1]"
      ],
      "metadata": {
        "id": "Oox4LCaVcRDn"
      },
      "execution_count": 11,
      "outputs": []
    },
    {
      "cell_type": "code",
      "source": [
        "print(\"★ 제약 조건 ★\")\n",
        "print(constraints)"
      ],
      "metadata": {
        "colab": {
          "base_uri": "https://localhost:8080/"
        },
        "id": "pMG8iRM4cWgW",
        "outputId": "e0da5a3a-d289-4b3d-b0d3-3ef1b74aeaa5"
      },
      "execution_count": 12,
      "outputs": [
        {
          "output_type": "stream",
          "name": "stdout",
          "text": [
            "★ 제약 조건 ★\n",
            "[Equality(Expression(AFFINE, UNKNOWN, ()), Constant(CONSTANT, NONNEGATIVE, ())), Inequality(Constant(CONSTANT, ZERO, ())), Inequality(Variable((100,)))]\n"
          ]
        }
      ]
    },
    {
      "cell_type": "markdown",
      "source": [
        "### 5. 최적화 알고리즘 실행 단계"
      ],
      "metadata": {
        "id": "S8gdN79UaZDa"
      }
    },
    {
      "cell_type": "markdown",
      "source": [
        "- 이 단계에서는 우리가 해결해야 할 문제를 최적화해서 답을 도출할 수 있는 알고리즘을 찾고 적용합니다.\n",
        "- 주요 Task :\n",
        "   - Quadratic Programming과 같은 알고리즘을 실행하기\n",
        "   - 최적화 알고리즘을 사용하여 최적 포트폴리오 조합을 찾기"
      ],
      "metadata": {
        "id": "eReQ80bla6wQ"
      }
    },
    {
      "cell_type": "code",
      "source": [
        "# Quadratic Programming (포트폴리오 리스크 계산)\n",
        "portfolio_risk = cp.sqrt(cp.quad_form(weights, cov_matrix))\n",
        "\n",
        "portfolio_risk"
      ],
      "metadata": {
        "colab": {
          "base_uri": "https://localhost:8080/"
        },
        "id": "kGEKhQbqLTO1",
        "outputId": "829e56b3-1eb6-49ec-86d1-6e32581c65b4"
      },
      "execution_count": 13,
      "outputs": [
        {
          "output_type": "execute_result",
          "data": {
            "text/plain": [
              "Expression(UNKNOWN, NONNEGATIVE, (1, 1))"
            ]
          },
          "metadata": {},
          "execution_count": 13
        }
      ]
    },
    {
      "cell_type": "code",
      "source": [
        "# 최적화 문제 정의\n",
        "problem = cp.Problem(objective, constraints)\n",
        "\n",
        "# 최적화 문제 해결\n",
        "problem.solve()\n",
        "\n",
        "# 최적 비중 출력\n",
        "optimal_weights = weights.value\n",
        "\n",
        "# 결과 출력\n",
        "print(\"최적 포트폴리오 비중:\")\n",
        "for i, stock in enumerate(stock_list):\n",
        "    if(optimal_weights[i] < 0.0001) :\n",
        "      continue\n",
        "    print(f\"{stock}: {optimal_weights[i]:.4f}\")"
      ],
      "metadata": {
        "colab": {
          "base_uri": "https://localhost:8080/"
        },
        "id": "acaJjioEL5gT",
        "outputId": "36debc64-743a-4368-9809-60c6234800d9"
      },
      "execution_count": 14,
      "outputs": [
        {
          "output_type": "stream",
          "name": "stdout",
          "text": [
            "최적 포트폴리오 비중:\n",
            "Company_18: 1.0000\n"
          ]
        }
      ]
    },
    {
      "cell_type": "markdown",
      "source": [
        "### 6. 시뮬레이션과 결과 분석 단계"
      ],
      "metadata": {
        "id": "LJqo0wKWaZTt"
      }
    },
    {
      "cell_type": "markdown",
      "source": [
        "- 이 단계에서는 프로그램을 통해 다양한 시나리오의 포트폴리오를 시뮬레이션하고 결과를 분석하여 어떤 조합이 가장 효율적인지를 평가합니다.\n",
        "- 주요 Task :\n",
        "   - 최적 포트폴리오를 바탕으로 다양한 시나리오를 시뮬레이션하기\n",
        "   - 각 시나리오에서의 포트폴리오 수익률 및 리스크를 계산하고 결과를 분석하기"
      ],
      "metadata": {
        "id": "Aj1H3Bdaa7Kf"
      }
    },
    {
      "cell_type": "code",
      "source": [
        "# 최적 비중 출력\n",
        "optimal_weights = weights.value\n",
        "\n",
        "# 시뮬레이션 및 결과 분석\n",
        "num_simulations = 10000\n",
        "simulated_results = []\n",
        "for _ in range(num_simulations):\n",
        "    random_weights = np.random.rand(num_assets)\n",
        "    random_weights /= np.sum(random_weights)\n",
        "    simulated_return = np.sum(random_weights * expected_returns)\n",
        "    simulated_risk = np.sqrt(np.dot(random_weights.T, np.dot(cov_matrix.values, random_weights)))\n",
        "    simulated_results.append((simulated_return, simulated_risk))\n",
        "\n",
        "simulated_results = np.array(simulated_results)"
      ],
      "metadata": {
        "id": "ys_AOWdIfK7a"
      },
      "execution_count": 15,
      "outputs": []
    },
    {
      "cell_type": "code",
      "source": [
        "simulated_results"
      ],
      "metadata": {
        "colab": {
          "base_uri": "https://localhost:8080/"
        },
        "id": "UBhnGle_gUVT",
        "outputId": "0fbe85f3-1283-4866-81cf-39d3ae3a5be3"
      },
      "execution_count": 16,
      "outputs": [
        {
          "output_type": "execute_result",
          "data": {
            "text/plain": [
              "array([[ 1.17279460e-04,  3.38598657e-03],\n",
              "       [ 3.26633265e-04,  3.70452542e-03],\n",
              "       [ 8.51198368e-05,  3.31739160e-03],\n",
              "       ...,\n",
              "       [-2.13210554e-05,  3.46218764e-03],\n",
              "       [ 2.16328975e-04,  3.31154223e-03],\n",
              "       [ 7.09782867e-05,  3.39772556e-03]])"
            ]
          },
          "metadata": {},
          "execution_count": 16
        }
      ]
    },
    {
      "cell_type": "code",
      "source": [
        "optimal_expected_return = expected_returns @ optimal_weights\n",
        "optimal_portfolio_risk = cp.sqrt(cp.quad_form(optimal_weights, cov_matrix))\n",
        "\n",
        "print(\"\\n최적 포트폴리오의 예상 수익률:\", optimal_expected_return)\n",
        "print(\"최적 포트폴리오의 리스크 (표준편차):\", optimal_portfolio_risk.value)"
      ],
      "metadata": {
        "colab": {
          "base_uri": "https://localhost:8080/"
        },
        "id": "YNvLZDIRMGnv",
        "outputId": "34e25a6b-2ac4-4658-d999-153897c6097b"
      },
      "execution_count": 17,
      "outputs": [
        {
          "output_type": "stream",
          "name": "stdout",
          "text": [
            "\n",
            "최적 포트폴리오의 예상 수익률: 0.01932443064515388\n",
            "최적 포트폴리오의 리스크 (표준편차): 0.030249695639154642\n"
          ]
        }
      ]
    },
    {
      "cell_type": "markdown",
      "source": [
        "### 7. 시각화 단계"
      ],
      "metadata": {
        "id": "ls9s2v0YaZYg"
      }
    },
    {
      "cell_type": "markdown",
      "source": [
        "- 이 단계에서는 최적화된 포트폴리오 및 다양한 리스크-수익률 조합에 대한 시각화를 통해 결정을 내릴 수 있도록 도움을 줍니다.\n",
        "- 주요 Task :\n",
        "   - 최적 포트폴리오 및 다양한 시나리오의 수익률-리스크 조합을 시각화하여 표시하기\n",
        "   - Matplotlib, Plotly 등의 시각화 라이브러리를 활용하기"
      ],
      "metadata": {
        "id": "0207rniza7ee"
      }
    },
    {
      "cell_type": "code",
      "source": [
        "import matplotlib.pyplot as plt\n",
        "\n",
        "plt.figure(figsize=(10, 6))\n",
        "plt.scatter(simulated_results[:, 1], simulated_results[:, 0], c=simulated_results[:, 0] / simulated_results[:, 1], cmap='YlOrRd', marker='o')\n",
        "plt.colorbar(label='Sharpe Ratio')\n",
        "plt.title('Portfolio Return vs. Risk')\n",
        "plt.xlabel('Portfolio Risk (Standard Deviation)')\n",
        "plt.ylabel('Portfolio Return')\n",
        "plt.scatter(optimal_portfolio_risk.value, optimal_expected_return, color='blue', marker='*', s=100, label='Optimal Portfolio')\n",
        "plt.legend()\n",
        "plt.grid(True)\n",
        "plt.show()\n"
      ],
      "metadata": {
        "colab": {
          "base_uri": "https://localhost:8080/",
          "height": 564
        },
        "id": "jLxOlS-jMulH",
        "outputId": "2eb1ee38-2bec-4f16-b9b4-593596d44886"
      },
      "execution_count": 18,
      "outputs": [
        {
          "output_type": "display_data",
          "data": {
            "text/plain": [
              "<Figure size 1000x600 with 2 Axes>"
            ],
            "image/png": "[encoded data removed]"
          },
          "metadata": {}
        }
      ]
    }
  ]
}